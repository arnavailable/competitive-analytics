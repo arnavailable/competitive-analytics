{
 "cells": [
  {
   "cell_type": "code",
   "execution_count": 2,
   "metadata": {},
   "outputs": [
    {
     "data": {
      "text/plain": [
       "Index(['Mean_City_Hourly_Earnings', 'Month_of_Year', 'Year',\n",
       "       'Temperature_Fahrenheit', 'Inches_of_Rainfall',\n",
       "       'Minutes_Worked_This_Session', 'Male', 'Day_of_Week', 'Person_ID',\n",
       "       'Earnings_This_Session', 'City'],\n",
       "      dtype='object')"
      ]
     },
     "execution_count": 2,
     "metadata": {},
     "output_type": "execute_result"
    }
   ],
   "source": [
    "# Importing the libraries\n",
    "import pandas as pd\n",
    "import numpy as np\n",
    "import matplotlib.pyplot as plt\n",
    "import seaborn as sns\n",
    "\n",
    "# Load the data\n",
    "uber_driver = pd.read_csv('uber_driver.csv')\n",
    "uber_driver.columns"
   ]
  },
  {
   "cell_type": "code",
   "execution_count": null,
   "metadata": {},
   "outputs": [],
   "source": [
    "# Calculating variables\n",
    "uber_driver['HoursOnShift'] = uber_driver.Minutes_Worked_This_Session / 60\n",
    "uber_driver['HourlyFares'] = uber_driver.Earnings_This_Session / uber_driver.HoursOnShift"
   ]
  },
  {
   "cell_type": "code",
   "execution_count": 4,
   "metadata": {},
   "outputs": [
    {
     "data": {
      "text/plain": [
       "Male\n",
       "1.0    844070\n",
       "0.0    134502\n",
       "Name: count, dtype: int64"
      ]
     },
     "execution_count": 4,
     "metadata": {},
     "output_type": "execute_result"
    }
   ],
   "source": [
    "uber_driver.Male.value_counts()"
   ]
  },
  {
   "cell_type": "code",
   "execution_count": 2,
   "metadata": {},
   "outputs": [
    {
     "name": "stderr",
     "output_type": "stream",
     "text": [
      "/Users/arnavgarg/anaconda3/lib/python3.11/site-packages/pandas/core/arraylike.py:396: RuntimeWarning: divide by zero encountered in log\n",
      "  result = getattr(ufunc, method)(*inputs, **kwargs)\n"
     ]
    },
    {
     "ename": "",
     "evalue": "",
     "output_type": "error",
     "traceback": [
      "\u001b[1;31mThe Kernel crashed while executing code in the current cell or a previous cell. \n",
      "\u001b[1;31mPlease review the code in the cell(s) to identify a possible cause of the failure. \n",
      "\u001b[1;31mClick <a href='https://aka.ms/vscodeJupyterKernelCrash'>here</a> for more info. \n",
      "\u001b[1;31mView Jupyter <a href='command:jupyter.viewOutput'>log</a> for further details."
     ]
    }
   ],
   "source": [
    "import pandas as pd\n",
    "import statsmodels.api as sm\n",
    "# Importing the libraries\n",
    "import pandas as pd\n",
    "import numpy as np\n",
    "import matplotlib.pyplot as plt\n",
    "import seaborn as sns\n",
    "from linearmodels.iv import IV2SLS\n",
    "\n",
    "# Load the data\n",
    "uber_driver = pd.read_csv('uber_driver.csv')\n",
    "\n",
    "# Define the variables based on the description in the paper and the dataset\n",
    "uber_driver['HoursOnShift'] = uber_driver.Minutes_Worked_This_Session / 60\n",
    "uber_driver['HourlyFares'] = uber_driver.Earnings_This_Session / uber_driver.HoursOnShift\n",
    "uber_driver['logHoursOnShift'] = np.log(uber_driver['HoursOnShift'])\n",
    "uber_driver['logHourlyFares'] = np.log(uber_driver['HourlyFares'])\n",
    "uber_driver['logAvgHourlyFares'] = np.log(uber_driver['Mean_City_Hourly_Earnings'])\n",
    "\n",
    "# Add quadratic term for temperature\n",
    "uber_driver['temperature_squared'] = uber_driver['Temperature_Fahrenheit'] ** 2\n",
    "\n",
    "# Define the independent variables and controls\n",
    "X = uber_driver[['logHourlyFares', 'Inches_of_Rainfall', 'Temperature_Fahrenheit', 'temperature_squared']]\n",
    "Z = uber_driver[['logAvgHourlyFares', 'Inches_of_Rainfall', 'Temperature_Fahrenheit', 'temperature_squared']]\n",
    "\n",
    "# Adding fixed effects for partner, month, and day of the week\n",
    "uber_driver = pd.get_dummies(uber_driver, columns=['Person_ID', 'Month_of_Year', 'Day_of_Week'], drop_first=True)\n",
    "\n",
    "# First stage regression: log(hourly_fares) ~ log(avg_hourly_fares)\n",
    "first_stage = sm.OLS(uber_driver['logHourlyFares'], sm.add_constant(Z)).fit()\n",
    "uber_driver['fitted_log_hourly_fares'] = first_stage.fittedvalues\n",
    "\n",
    "# Second stage regression: log(hours_on_shift) ~ fitted_log_hourly_fares + controls\n",
    "second_stage = IV2SLS(\n",
    "    uber_driver['log_hours_on_shift'],\n",
    "    sm.add_constant(X),\n",
    "    instrument=uber_driver['fitted_log_hourly_fares']\n",
    ").fit()\n",
    "\n",
    "# Print the regression results\n",
    "print(second_stage.summary)"
   ]
  },
  {
   "cell_type": "code",
   "execution_count": null,
   "metadata": {},
   "outputs": [],
   "source": []
  }
 ],
 "metadata": {
  "kernelspec": {
   "display_name": "base",
   "language": "python",
   "name": "python3"
  },
  "language_info": {
   "codemirror_mode": {
    "name": "ipython",
    "version": 3
   },
   "file_extension": ".py",
   "mimetype": "text/x-python",
   "name": "python",
   "nbconvert_exporter": "python",
   "pygments_lexer": "ipython3",
   "version": "3.11.5"
  }
 },
 "nbformat": 4,
 "nbformat_minor": 2
}
